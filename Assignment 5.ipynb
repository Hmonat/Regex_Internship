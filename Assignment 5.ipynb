{
 "cells": [
  {
   "cell_type": "markdown",
   "id": "absolute-ordering",
   "metadata": {},
   "source": [
    "#### Registration id - SIRSS1066\n",
    "#### Name - Himanshu Monat\n",
    "#### College / Organization - MIT, Ujjain / Xoriant Solutions\n",
    "#### Subject - Assignment 5 \n"
   ]
  },
  {
   "cell_type": "markdown",
   "id": "exempt-processor",
   "metadata": {},
   "source": [
    "### Q1. Given a list of integers, write a function to return the sum of all prime numbers in that list."
   ]
  },
  {
   "cell_type": "code",
   "execution_count": 15,
   "id": "mineral-tribune",
   "metadata": {},
   "outputs": [
    {
     "name": "stdout",
     "output_type": "stream",
     "text": [
      "83\n"
     ]
    }
   ],
   "source": [
    "def is_prime(num):\n",
    "    \"\"\"Function checks if the given number is prime or not?\"\"\"\n",
    "    for i in range(2, int(num ** 0.5)+1):\n",
    "        if num % i == 0:\n",
    "            return False\n",
    "\n",
    "    return True\n",
    "\n",
    "   \n",
    "def sum_prime(val):\n",
    "    \"\"\"Function calculates sum of all the prime numbers present in the list\"\"\"\n",
    "    sum_1 = 0\n",
    "    obj1 = filter(is_prime, val)\n",
    "    prime_bool_list = list(obj1)\n",
    "    for i in range(len(prime_bool_list)):\n",
    "        sum_1 += prime_bool_list[i]\n",
    "    return sum_1\n",
    "\n",
    "li = [2,5,73,6,38,84,3,78]\n",
    "result = sum_prime(li)\n",
    "print(result)"
   ]
  },
  {
   "cell_type": "markdown",
   "id": "pleased-delivery",
   "metadata": {},
   "source": [
    "### Q2. Given a list of integers, write a function to check whether the list is strictly increasing or not."
   ]
  },
  {
   "cell_type": "code",
   "execution_count": 11,
   "id": "respected-train",
   "metadata": {},
   "outputs": [
    {
     "data": {
      "text/plain": [
       "True"
      ]
     },
     "execution_count": 11,
     "metadata": {},
     "output_type": "execute_result"
    }
   ],
   "source": [
    "def is_increasing_list(li):\n",
    "    if len(li) != len(set(li)):\n",
    "        return False\n",
    "    \n",
    "    ordered_li = sorted(li)\n",
    "    if (li == ordered_li):\n",
    "        return True\n",
    "    else:\n",
    "        return False\n",
    "    \n",
    "li =  [10, 12, 23, 34, 55]\n",
    "is_increasing_list(li)"
   ]
  },
  {
   "cell_type": "markdown",
   "id": "economic-copper",
   "metadata": {},
   "source": [
    "### Q3. Write a function to check whether a given list is expanding or not (the difference between adjacent elements should keep on increasing)."
   ]
  },
  {
   "cell_type": "code",
   "execution_count": 21,
   "id": "plain-hurricane",
   "metadata": {},
   "outputs": [
    {
     "data": {
      "text/plain": [
       "True"
      ]
     },
     "execution_count": 21,
     "metadata": {},
     "output_type": "execute_result"
    }
   ],
   "source": [
    "def is_expanding_list(li):\n",
    "    if len(li) != len(set(li)):\n",
    "        return False\n",
    "    \n",
    "    diff = 0\n",
    "    diff1 = 0\n",
    "    for i in range(1, len(li)):\n",
    "        diff = li[i] - li[i-1] \n",
    "        if diff <= diff1:\n",
    "            return False\n",
    "        diff1 = diff\n",
    "    \n",
    "    return True\n",
    "\n",
    "li =  [10, 12, 23, 35, 55]\n",
    "is_expanding_list(li)"
   ]
  },
  {
   "cell_type": "markdown",
   "id": "bacterial-harmony",
   "metadata": {},
   "source": [
    "### Q4. Write a function to calculate all permutations of a given string. (Without using itertools)"
   ]
  },
  {
   "cell_type": "code",
   "execution_count": 104,
   "id": "dedicated-tamil",
   "metadata": {},
   "outputs": [
    {
     "name": "stdout",
     "output_type": "stream",
     "text": [
      "ABC\n",
      "ABC\n",
      "ACB\n",
      "BAC\n",
      "BCA\n",
      "CBA\n",
      "CAB\n"
     ]
    }
   ],
   "source": [
    "def permutations(string, step = 0):\n",
    "\n",
    "    # if we've gotten to the end, print the permutation\n",
    "    if step == len(string):\n",
    "        print(\"\".join(string))\n",
    "\n",
    "    # everything to the right of step has not been swapped yet\n",
    "    for i in range(step, len(string)):\n",
    "\n",
    "        # copy the string (store as array)\n",
    "        string_copy = [character for character in string]\n",
    "        \n",
    "        # swap the current index with the step\n",
    "        string_copy[step], string_copy[i] = string_copy[i], string_copy[step]\n",
    "\n",
    "        # recurse on the portion of the string that has not been swapped yet (now it's index will begin with step + 1)\n",
    "        permutations(string_copy, step + 1)\n",
    "        \n",
    "        \n",
    "permutations(str(input()))"
   ]
  }
 ],
 "metadata": {
  "kernelspec": {
   "display_name": "Python 3",
   "language": "python",
   "name": "python3"
  },
  "language_info": {
   "codemirror_mode": {
    "name": "ipython",
    "version": 3
   },
   "file_extension": ".py",
   "mimetype": "text/x-python",
   "name": "python",
   "nbconvert_exporter": "python",
   "pygments_lexer": "ipython3",
   "version": "3.7.3"
  }
 },
 "nbformat": 4,
 "nbformat_minor": 5
}
