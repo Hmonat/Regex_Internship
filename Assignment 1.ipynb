{
 "cells": [
  {
   "cell_type": "markdown",
   "id": "environmental-luxury",
   "metadata": {},
   "source": [
    "## Patterns Programming"
   ]
  },
  {
   "cell_type": "markdown",
   "id": "hispanic-revision",
   "metadata": {},
   "source": [
    "#### Pattern 1"
   ]
  },
  {
   "cell_type": "code",
   "execution_count": 6,
   "id": "initial-fifth",
   "metadata": {},
   "outputs": [
    {
     "name": "stdout",
     "output_type": "stream",
     "text": [
      "55555\n",
      "5555\n",
      "555\n",
      "55\n",
      "5\n"
     ]
    }
   ],
   "source": [
    "for x in range(1,6):\n",
    "    print('5' * (6 - x))"
   ]
  },
  {
   "cell_type": "markdown",
   "id": "quiet-amount",
   "metadata": {},
   "source": [
    "#### Pattern 2"
   ]
  },
  {
   "cell_type": "code",
   "execution_count": 31,
   "id": "imperial-somewhere",
   "metadata": {},
   "outputs": [
    {
     "name": "stdout",
     "output_type": "stream",
     "text": [
      "012345\n",
      "01234\n",
      "0123\n",
      "012\n",
      "01\n"
     ]
    }
   ],
   "source": [
    "r = 6\n",
    "for y in range(1,r):\n",
    "    for x in range(r):\n",
    "        if x == r - 1:\n",
    "            print(x )\n",
    "            r-=1\n",
    "        else:\n",
    "            print(x , end = '')\n"
   ]
  },
  {
   "cell_type": "markdown",
   "id": "painful-kazakhstan",
   "metadata": {},
   "source": [
    "#### Patter 3"
   ]
  },
  {
   "cell_type": "code",
   "execution_count": 68,
   "id": "sticky-preference",
   "metadata": {},
   "outputs": [
    {
     "name": "stdout",
     "output_type": "stream",
     "text": [
      "Enter the limit for numbers to be checked:10\n",
      "1\n",
      "33\n",
      "555\n",
      "7777\n",
      "99999\n"
     ]
    }
   ],
   "source": [
    "import math\n",
    "print(\"Enter the limit for numbers to be checked:\",end = '')\n",
    "len = int(input())\n",
    "\n",
    "for x in range(1,len):\n",
    "    if (x % 2) != 0:\n",
    "        print(str(x) * math.ceil(x/2))"
   ]
  },
  {
   "cell_type": "markdown",
   "id": "coated-preliminary",
   "metadata": {},
   "source": [
    "#### Pattern 4"
   ]
  },
  {
   "cell_type": "code",
   "execution_count": 48,
   "id": "professional-murray",
   "metadata": {},
   "outputs": [
    {
     "name": "stdout",
     "output_type": "stream",
     "text": [
      "1\n",
      "21\n",
      "321\n",
      "4321\n",
      "54321\n"
     ]
    }
   ],
   "source": [
    "r = 6\n",
    "j = 2\n",
    "for y in range(1,r):\n",
    "    for x in range(1,j):\n",
    "        if x == j - 1:\n",
    "            print(j - x  )\n",
    "            r-=1\n",
    "            j += 1\n",
    "        else:\n",
    "            print(j - x , end = '')"
   ]
  },
  {
   "cell_type": "markdown",
   "id": "hydraulic-scoop",
   "metadata": {},
   "source": [
    "#### Pattern 5"
   ]
  },
  {
   "cell_type": "code",
   "execution_count": 70,
   "id": "successful-surveillance",
   "metadata": {},
   "outputs": [
    {
     "name": "stdout",
     "output_type": "stream",
     "text": [
      "Enter the number of rows to be printed:4\n",
      "1\n",
      "321\n",
      "654321\n",
      "10987654321\n"
     ]
    }
   ],
   "source": [
    "print(\"Enter the number of rows to be printed:\",end = '')\n",
    "len = int(input())\n",
    "\n",
    "\n",
    "x = 1\n",
    "for p in range(2,(len + 2)):\n",
    "    z = x\n",
    "    for n in range(x):\n",
    "\n",
    "        if n == x - 1:\n",
    "            print(str(z))\n",
    "            x += p\n",
    "        else:\n",
    "            print(str(z), end = '')\n",
    "            \n",
    "        z-=1\n",
    "            \n",
    "        "
   ]
  },
  {
   "cell_type": "markdown",
   "id": "nervous-planner",
   "metadata": {},
   "source": [
    "#### Pattern 6"
   ]
  },
  {
   "cell_type": "code",
   "execution_count": 6,
   "id": "alert-twist",
   "metadata": {},
   "outputs": [
    {
     "name": "stdout",
     "output_type": "stream",
     "text": [
      "Enter number of rows: 6\n",
      "1\n",
      "1 1\n",
      "1 2 1\n",
      "1 3 3 1\n",
      "1 4 6 4 1\n",
      "1 5 10 10 5 1\n"
     ]
    }
   ],
   "source": [
    "n=int(input(\"Enter number of rows: \"))\n",
    "a=[]\n",
    "for i in range(n):\n",
    "    a.append([])\n",
    "    a[i].append(1)\n",
    "    for j in range(1,i):\n",
    "        a[i].append(a[i-1][j-1]+a[i-1][j])\n",
    "    if(i!=0):\n",
    "        a[i].append(1)\n",
    "\n",
    "# print(a)\n",
    "# print(len(a))\n",
    "for x in range(len(a)):\n",
    "    for y in range(len(a[x])):\n",
    "        if (y == (len(a[x]) - 1)):\n",
    "            print(a[x][y])\n",
    "        else:\n",
    "            print(a[x][y], end = ' ')"
   ]
  },
  {
   "cell_type": "markdown",
   "id": "distributed-photography",
   "metadata": {},
   "source": [
    "#### Pattern 7"
   ]
  },
  {
   "cell_type": "code",
   "execution_count": 4,
   "id": "banner-investing",
   "metadata": {},
   "outputs": [
    {
     "name": "stdout",
     "output_type": "stream",
     "text": [
      "Enter the number of rows: 5\n",
      "1 2 3 4 5 \n",
      "2 2 3 4 5 \n",
      "3 3 3 4 5 \n",
      "4 4 4 4 5 \n",
      "5 5 5 5 5 \n"
     ]
    }
   ],
   "source": [
    "rows = int(input(\"Enter the number of rows: \"))  \n",
    "for i in range(1, rows + 1):  \n",
    "    for j in range(1, rows + 1):  \n",
    "        if j <= i:  \n",
    "            print(i, end=' ')  \n",
    "        else:  \n",
    "            print(j, end=' ')  \n",
    "    print()"
   ]
  },
  {
   "cell_type": "markdown",
   "id": "narrow-airport",
   "metadata": {},
   "source": [
    "#### Pattern 8"
   ]
  },
  {
   "cell_type": "code",
   "execution_count": 5,
   "id": "recreational-rochester",
   "metadata": {},
   "outputs": [
    {
     "name": "stdout",
     "output_type": "stream",
     "text": [
      "Enter the number of rows: 6\n",
      "1  \n",
      "2  4  \n",
      "3  6  9  \n",
      "4  8  12  16  \n",
      "5  10  15  20  25  \n",
      "6  12  18  24  30  36  \n"
     ]
    }
   ],
   "source": [
    "rows = int(input(\"Enter the number of rows: \"))  \n",
    "for i in range(1, rows+1):  \n",
    "    for j in range(1, i + 1):  \n",
    "        print(i * j, end='  ')  \n",
    "    print()"
   ]
  },
  {
   "cell_type": "markdown",
   "id": "acquired-bishop",
   "metadata": {},
   "source": [
    "#### Pattern 9"
   ]
  },
  {
   "cell_type": "code",
   "execution_count": 7,
   "id": "inside-safety",
   "metadata": {},
   "outputs": [
    {
     "name": "stdout",
     "output_type": "stream",
     "text": [
      "        * * * * * * \r\n",
      "         * * * * * \r\n",
      "          * * * * \r\n",
      "           * * * \r\n",
      "            * * \r\n",
      "             * \r\n"
     ]
    }
   ],
   "source": [
    "def stars(n):\n",
    "  p = 2*n -2\n",
    "  for i in range(n,-1,-1):\n",
    "       for j in range(p,0,-1):\n",
    "            print(end=\" \")\n",
    "       p = p +1\n",
    "       for j in range(0, i+1):\n",
    "            print(\"*\", end=\" \")\n",
    "       print(\"\\r\")\n",
    " \n",
    "stars(5)"
   ]
  },
  {
   "cell_type": "markdown",
   "id": "scheduled-token",
   "metadata": {},
   "source": [
    "#### Pattern 10"
   ]
  },
  {
   "cell_type": "code",
   "execution_count": 10,
   "id": "annoying-assault",
   "metadata": {},
   "outputs": [
    {
     "name": "stdout",
     "output_type": "stream",
     "text": [
      "Enter the number of rows: 7\n",
      "            *   \n",
      "           *  *   \n",
      "          *  *  *   \n",
      "         *  *  *  *   \n",
      "        *  *  *  *  *   \n",
      "       *  *  *  *  *  *   \n",
      "      *  *  *  *  *  *  *   \n"
     ]
    }
   ],
   "source": [
    "\n",
    "r = int(input(\"Enter the number of rows: \"))  \n",
    "s = (2 * r) - 2  \n",
    "for i in range(0, r):  \n",
    "    for j in range(0, s):  \n",
    "        print(end=\" \")  \n",
    "    s = s - 1   \n",
    "    for j in range(0, i + 1):    \n",
    "        print(\"* \", end=' ')  \n",
    "    print(\" \")"
   ]
  },
  {
   "cell_type": "markdown",
   "id": "intensive-tender",
   "metadata": {},
   "source": [
    "#### Pattern 11"
   ]
  },
  {
   "cell_type": "code",
   "execution_count": 11,
   "id": "liable-speech",
   "metadata": {},
   "outputs": [
    {
     "name": "stdout",
     "output_type": "stream",
     "text": [
      "*  \n",
      "* *  \n",
      "* * *  \n",
      "* * * *  \n",
      "* * * * *  \n",
      "* * * * * *  \n",
      " \n",
      "* * * * * *  \n",
      "* * * * *  \n",
      "* * * *  \n",
      "* * *  \n",
      "* *  \n",
      "*  \n",
      " \n"
     ]
    }
   ],
   "source": [
    "rows = 6\n",
    "for i in range(0, rows):\n",
    "    for j in range(0, i + 1):\n",
    "        print(\"*\", end=' ')\n",
    "    print(\" \")\n",
    "print(\" \")\n",
    "\n",
    "for i in range(rows + 1, 0, -1):\n",
    "    for j in range(0, i - 1):\n",
    "        print(\"*\", end=' ')\n",
    "    print(\" \")"
   ]
  },
  {
   "cell_type": "markdown",
   "id": "understanding-costume",
   "metadata": {},
   "source": [
    "#### Pattern 12"
   ]
  },
  {
   "cell_type": "code",
   "execution_count": 13,
   "id": "eight-score",
   "metadata": {},
   "outputs": [
    {
     "name": "stdout",
     "output_type": "stream",
     "text": [
      "* \r\n",
      "* * \r\n",
      "* * * \r\n",
      "* * * * \r\n",
      "* * * * * \r\n",
      "* * * * * * \r\n",
      "* * * * * \r\n",
      "* * * * \r\n",
      "* * * \r\n",
      "* * \r\n",
      "* \r\n"
     ]
    }
   ],
   "source": [
    "def stars(n):\n",
    "    for i in range(0, n):\n",
    "       for j in range(0, i + 1):\n",
    "            print(\"* \", end=\"\")\n",
    "       print(\"\\r\")\n",
    "    for i in range(n, -1 , -1):\n",
    "      for j in range(0, i + 1):\n",
    "           print(\"* \", end=\"\")\n",
    "      print(\"\\r\")\n",
    " \n",
    "stars(5)"
   ]
  },
  {
   "cell_type": "markdown",
   "id": "deadly-irrigation",
   "metadata": {},
   "source": [
    "#### Pattern 13"
   ]
  },
  {
   "cell_type": "code",
   "execution_count": 14,
   "id": "superior-samba",
   "metadata": {},
   "outputs": [
    {
     "name": "stdout",
     "output_type": "stream",
     "text": [
      "        * \n",
      "      * * \n",
      "    * * * \n",
      "  * * * * \n",
      "* * * * * \n",
      "  * * * * \n",
      "    * * * \n",
      "      * * \n",
      "        * \n",
      "          \n"
     ]
    }
   ],
   "source": [
    "rows = 5\n",
    "i = 1\n",
    "while i <= rows:\n",
    "    j = i\n",
    "    while j < rows:\n",
    "        print(' ', end=' ')\n",
    "        j += 1\n",
    "    k = 1\n",
    "    while k <= i:\n",
    "        print('*', end=' ')\n",
    "        k += 1\n",
    "    print()\n",
    "    i += 1\n",
    "\n",
    "i = rows\n",
    "while i >= 1:\n",
    "    j = i\n",
    "    while j <= rows:\n",
    "        print(' ', end=' ')\n",
    "        j += 1\n",
    "    k = 1\n",
    "    while k < i:\n",
    "        print('*', end=' ')\n",
    "        k += 1\n",
    "    print('')\n",
    "    i -= 1"
   ]
  },
  {
   "cell_type": "markdown",
   "id": "ancient-investigation",
   "metadata": {},
   "source": [
    "#### Pattern 14"
   ]
  },
  {
   "cell_type": "code",
   "execution_count": 15,
   "id": "furnished-denmark",
   "metadata": {},
   "outputs": [
    {
     "name": "stdout",
     "output_type": "stream",
     "text": [
      "* * * * * \n",
      " * * * * \n",
      "  * * * \n",
      "   * * \n",
      "    * \n",
      "    * \n",
      "   * * \n",
      "  * * * \n",
      " * * * * \n",
      "* * * * * \n"
     ]
    }
   ],
   "source": [
    "rows = 5\n",
    "i = 0\n",
    "while i <= rows - 1:\n",
    "    j = 0\n",
    "    while j < i:\n",
    "        # display space\n",
    "        print('', end=' ')\n",
    "        j += 1\n",
    "    k = i\n",
    "    while k <= rows - 1:\n",
    "        print('*', end=' ')\n",
    "        k += 1\n",
    "    print()\n",
    "    i += 1\n",
    "\n",
    "i = rows - 1\n",
    "while i >= 0:\n",
    "    j = 0\n",
    "    while j < i:\n",
    "        print('', end=' ')\n",
    "        j += 1\n",
    "    k = i\n",
    "    while k <= rows - 1:\n",
    "        print('*', end=' ')\n",
    "        k += 1\n",
    "    print('')\n",
    "    i -= 1"
   ]
  },
  {
   "cell_type": "markdown",
   "id": "medium-zambia",
   "metadata": {},
   "source": [
    "#### Pattern 15"
   ]
  },
  {
   "cell_type": "code",
   "execution_count": 16,
   "id": "weekly-runner",
   "metadata": {},
   "outputs": [
    {
     "name": "stdout",
     "output_type": "stream",
     "text": [
      "**************\n",
      "******__******\n",
      "*****____*****\n",
      "****______****\n",
      "***________***\n",
      "**__________**\n",
      "*____________*\n"
     ]
    }
   ],
   "source": [
    "rows = 14\n",
    "print(\"*\" * rows, end=\"\\n\")\n",
    "i = (rows // 2) - 1\n",
    "j = 2\n",
    "while i != 0:\n",
    "    while j <= (rows - 2):\n",
    "        print(\"*\" * i, end=\"\")\n",
    "        print(\"_\" * j, end=\"\")\n",
    "        print(\"*\" * i, end=\"\\n\")\n",
    "        i = i - 1\n",
    "        j = j + 2"
   ]
  }
 ],
 "metadata": {
  "kernelspec": {
   "display_name": "Python 3",
   "language": "python",
   "name": "python3"
  },
  "language_info": {
   "codemirror_mode": {
    "name": "ipython",
    "version": 3
   },
   "file_extension": ".py",
   "mimetype": "text/x-python",
   "name": "python",
   "nbconvert_exporter": "python",
   "pygments_lexer": "ipython3",
   "version": "3.7.3"
  }
 },
 "nbformat": 4,
 "nbformat_minor": 5
}
