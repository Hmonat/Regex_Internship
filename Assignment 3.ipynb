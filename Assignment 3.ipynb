{
 "cells": [
  {
   "cell_type": "markdown",
   "id": "blessed-prerequisite",
   "metadata": {},
   "source": [
    "#### Registration id - SIRSS1066\n",
    "#### Name - Himanshu Monat\n",
    "#### College / Organization - MIT, Ujjain / Xoriant Solutions\n",
    "#### Subject - Assignment 3 - Functions\n"
   ]
  },
  {
   "cell_type": "markdown",
   "id": "everyday-photograph",
   "metadata": {},
   "source": [
    "#### Q1. Write a function to return nth term of Fibonacci sequence"
   ]
  },
  {
   "cell_type": "code",
   "execution_count": 2,
   "id": "literary-client",
   "metadata": {},
   "outputs": [
    {
     "name": "stdout",
     "output_type": "stream",
     "text": [
      "Enter a Number : 7\n",
      "0 1 1 2 3 5 8 "
     ]
    }
   ],
   "source": [
    "def fibonacci(inp) :\n",
    "    if inp <= 1 :\n",
    "        return inp\n",
    "    else : \n",
    "        return (fibonacci(inp-1) + fibonacci(inp-2))\n",
    "    \n",
    "n = int(input(\"Enter a Number : \"))\n",
    "\n",
    "if n < 0 :\n",
    "    print(\"Please Enter Positive Number \")\n",
    "else :\n",
    "    for i in range(n) :\n",
    "        print(fibonacci(i), end = \" \")"
   ]
  },
  {
   "cell_type": "markdown",
   "id": "shared-despite",
   "metadata": {},
   "source": [
    "#### Q2. Write a function to find out GCD of two numbers using EUCLID'S algorithm"
   ]
  },
  {
   "cell_type": "code",
   "execution_count": 3,
   "id": "asian-convert",
   "metadata": {},
   "outputs": [
    {
     "name": "stdout",
     "output_type": "stream",
     "text": [
      "Enter first Number : 5\n",
      "Enter second Number : 6\n",
      "GCD of (5,6) =  1\n"
     ]
    }
   ],
   "source": [
    "def gcd(n1, n2) :\n",
    "    if n2 == 0 :\n",
    "        return n1\n",
    "    else :\n",
    "        return gcd(n2, n1 % n2)\n",
    "        \n",
    "inp1 = int(input(\"Enter first Number : \"))\n",
    "inp2 = int(input(\"Enter second Number : \"))\n",
    "\n",
    "print(f\"GCD of ({inp1},{inp2}) = \", gcd(inp1, inp2))"
   ]
  },
  {
   "cell_type": "markdown",
   "id": "looking-safety",
   "metadata": {},
   "source": [
    "#### Q3. Write a function to find LCM of two number in most optimizers way."
   ]
  },
  {
   "cell_type": "code",
   "execution_count": 4,
   "id": "central-arabic",
   "metadata": {},
   "outputs": [
    {
     "name": "stdout",
     "output_type": "stream",
     "text": [
      "Enter first Number : 6\n",
      "Enter second Number : 29\n",
      "LCM of (6,29) =  174.0\n"
     ]
    }
   ],
   "source": [
    "def gcd(n1, n2) :\n",
    "    if n2 == 0 :\n",
    "        return n1\n",
    "    else :\n",
    "        return gcd(n2, n1 % n2)\n",
    "    \n",
    "def lcm(n1, n2) :\n",
    "    return (n1 / gcd(n1,n2)) * n2\n",
    "\n",
    "inp1 = int(input(\"Enter first Number : \"))\n",
    "inp2 = int(input(\"Enter second Number : \"))\n",
    "\n",
    "print(f\"LCM of ({inp1},{inp2}) = \", lcm(inp1, inp2))"
   ]
  }
 ],
 "metadata": {
  "kernelspec": {
   "display_name": "Python 3",
   "language": "python",
   "name": "python3"
  },
  "language_info": {
   "codemirror_mode": {
    "name": "ipython",
    "version": 3
   },
   "file_extension": ".py",
   "mimetype": "text/x-python",
   "name": "python",
   "nbconvert_exporter": "python",
   "pygments_lexer": "ipython3",
   "version": "3.7.3"
  }
 },
 "nbformat": 4,
 "nbformat_minor": 5
}
